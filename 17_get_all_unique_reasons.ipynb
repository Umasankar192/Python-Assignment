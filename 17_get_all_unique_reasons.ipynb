{
 "cells": [
  {
   "cell_type": "markdown",
   "id": "5286be3b",
   "metadata": {},
   "source": [
    "## Get all unique reasons\n",
    "\n",
    "Develop a function which gives list of unique reasons.\n",
    "* We will provide the data in the form of list of dicts.\n",
    "* Each element will have data related to multiple attributes associated with those who want to take the assessments.\n",
    "* Develop a function which does the following.\n",
    "  * It should take one argument - the list of aspirants.\n",
    "  * You need to include the logic to find all the unique reasons. Each record might contain more than one reasons which are comma separated. You need process those with appropriate functions.\n",
    "  * There should not be spaces before the reason or after the reason.\n",
    "  * Return all the reasons as sorted list. The elements in the list should be sorted in alphanumeric order.\n",
    "\n",
    "**Restrictions: You should only use loops or first class functions such as map, filter etc.  Do not use Pandas.**"
   ]
  },
  {
   "cell_type": "code",
   "execution_count": 10,
   "id": "d7c94425",
   "metadata": {},
   "outputs": [],
   "source": [
    "students = [{'Name': 'Pardha Saradhi',\n",
    "  'Reason': 'To be part of ITVersity Professionals Database to work on paid part-time opportunities',\n",
    "  'Current Status': 'Experienced Professionals (10+ years of experience)',\n",
    "  'Python Rating': '3',\n",
    "  'Scheduled Date': '7/31/2021',\n",
    "  'Current Country': 'India'},\n",
    " {'Name': 'Asasri',\n",
    "  'Reason': 'Self assess to understand where I stand in Python',\n",
    "  'Current Status': 'Freshers or recent year pass outs looking for entry level jobs',\n",
    "  'Python Rating': '2',\n",
    "  'Scheduled Date': '8/10/2021',\n",
    "  'Current Country': 'India'},\n",
    " {'Name': 'Sai Akshith',\n",
    "  'Reason': 'Self assess to understand where I stand in Python, Technical Screening Preparation (tests as well as interviews), To be part of ITVersity Professionals Database to work on paid part-time opportunities',\n",
    "  'Current Status': 'Entry level professional (less than 2 years of experience)',\n",
    "  'Python Rating': '3',\n",
    "  'Scheduled Date': '7/30/2021',\n",
    "  'Current Country': 'India'},\n",
    " {'Name': 'Anmol',\n",
    "  'Reason': 'Self assess to understand where I stand in Python, To be part of ITVersity Professionals Database to work on paid part-time opportunities',\n",
    "  'Current Status': 'Experienced Professionals (2 to 5 years of experience)',\n",
    "  'Python Rating': '2',\n",
    "  'Scheduled Date': '7/25/2021',\n",
    "  'Current Country': 'India'},\n",
    " {'Name': 'Shravan',\n",
    "  'Reason': 'Self assess to understand where I stand in Python, Technical Screening Preparation (tests as well as interviews)',\n",
    "  'Current Status': 'Experienced Professionals (2 to 5 years of experience)',\n",
    "  'Python Rating': '1',\n",
    "  'Scheduled Date': '7/28/2021',\n",
    "  'Current Country': 'India'},\n",
    " {'Name': 'Aditya',\n",
    "  'Reason': 'Self assess to understand where I stand in Python, Technical Screening Preparation (tests as well as interviews), Placement Assistance for full time opportunities, To be part of ITVersity Professionals Database to work on paid part-time opportunities',\n",
    "  'Current Status': 'Experienced Professionals (5 to 10 years of experience)',\n",
    "  'Python Rating': '1',\n",
    "  'Scheduled Date': '7/31/2021',\n",
    "  'Current Country': 'USA'},\n",
    " {'Name': 'Prasanth ',\n",
    "  'Reason': 'Self assess to understand where I stand in Python',\n",
    "  'Current Status': 'Experienced Professionals (10+ years of experience)',\n",
    "  'Python Rating': '2',\n",
    "  'Scheduled Date': '8/14/2021',\n",
    "  'Current Country': 'USA'},\n",
    " {'Name': 'Sahana',\n",
    "  'Reason': 'Self assess to understand where I stand in Python, Placement Assistance for full time opportunities',\n",
    "  'Current Status': 'Entry level professional (less than 2 years of experience)',\n",
    "  'Python Rating': '4',\n",
    "  'Scheduled Date': '7/26/2021',\n",
    "  'Current Country': 'India'}]"
   ]
  },
  {
   "cell_type": "code",
   "execution_count": 1,
   "id": "ee37c532",
   "metadata": {},
   "outputs": [],
   "source": [
    "Reason =[]\n",
    "uReason=[]"
   ]
  },
  {
   "cell_type": "code",
   "execution_count": 8,
   "id": "bd7f1714",
   "metadata": {},
   "outputs": [],
   "source": [
    "for i in students:\n",
    "    j=i['Reason']\n",
    "    Reason = Reason+[j]\n"
   ]
  },
  {
   "cell_type": "code",
   "execution_count": 9,
   "id": "867f835c",
   "metadata": {},
   "outputs": [
    {
     "data": {
      "text/plain": [
       "{'Self assess to understand where I stand in Python',\n",
       " 'Self assess to understand where I stand in Python, Placement Assistance for full time opportunities',\n",
       " 'Self assess to understand where I stand in Python, Technical Screening Preparation (tests as well as interviews)',\n",
       " 'Self assess to understand where I stand in Python, Technical Screening Preparation (tests as well as interviews), Placement Assistance for full time opportunities, To be part of ITVersity Professionals Database to work on paid part-time opportunities',\n",
       " 'Self assess to understand where I stand in Python, Technical Screening Preparation (tests as well as interviews), To be part of ITVersity Professionals Database to work on paid part-time opportunities',\n",
       " 'Self assess to understand where I stand in Python, To be part of ITVersity Professionals Database to work on paid part-time opportunities',\n",
       " 'To be part of ITVersity Professionals Database to work on paid part-time opportunities'}"
      ]
     },
     "execution_count": 9,
     "metadata": {},
     "output_type": "execute_result"
    }
   ],
   "source": [
    "set(Reason)"
   ]
  },
  {
   "cell_type": "code",
   "execution_count": 4,
   "id": "3f48a70c",
   "metadata": {
    "scrolled": true
   },
   "outputs": [
    {
     "data": {
      "text/plain": [
       "'Self assess to understand where I stand in Python, Placement Assistance for full time opportunities'"
      ]
     },
     "execution_count": 4,
     "metadata": {},
     "output_type": "execute_result"
    }
   ],
   "source": [
    "j"
   ]
  },
  {
   "cell_type": "code",
   "execution_count": 11,
   "id": "6634d84d",
   "metadata": {
    "scrolled": false
   },
   "outputs": [
    {
     "data": {
      "text/plain": [
       "{'Self assess to understand where I stand in Python',\n",
       " 'Self assess to understand where I stand in Python, Placement Assistance for full time opportunities',\n",
       " 'Self assess to understand where I stand in Python, Technical Screening Preparation (tests as well as interviews)',\n",
       " 'Self assess to understand where I stand in Python, Technical Screening Preparation (tests as well as interviews), Placement Assistance for full time opportunities, To be part of ITVersity Professionals Database to work on paid part-time opportunities',\n",
       " 'Self assess to understand where I stand in Python, Technical Screening Preparation (tests as well as interviews), To be part of ITVersity Professionals Database to work on paid part-time opportunities',\n",
       " 'Self assess to understand where I stand in Python, To be part of ITVersity Professionals Database to work on paid part-time opportunities',\n",
       " 'To be part of ITVersity Professionals Database to work on paid part-time opportunities'}"
      ]
     },
     "execution_count": 11,
     "metadata": {},
     "output_type": "execute_result"
    }
   ],
   "source": [
    "Reason =[]\n",
    "uReason=[]\n",
    "for i in students:\n",
    "    j=i['Reason']\n",
    "    Reason= Reason+[j]\n",
    "set(Reason)"
   ]
  },
  {
   "cell_type": "code",
   "execution_count": null,
   "id": "1c7ccf0b",
   "metadata": {},
   "outputs": [],
   "source": [
    "for k in Reason:\n",
    "    if k not in uReason:\n",
    "        uReason = uReason+[k]\n",
    "uReason"
   ]
  },
  {
   "cell_type": "markdown",
   "id": "4d394052",
   "metadata": {},
   "source": [
    "### Step 1: Preview the data\n",
    "\n",
    "Let us first preview the data."
   ]
  },
  {
   "cell_type": "code",
   "execution_count": 2,
   "id": "11566b33",
   "metadata": {},
   "outputs": [
    {
     "data": {
      "text/plain": [
       "list"
      ]
     },
     "execution_count": 2,
     "metadata": {},
     "output_type": "execute_result"
    }
   ],
   "source": [
    "type(students)"
   ]
  },
  {
   "cell_type": "code",
   "execution_count": 3,
   "id": "0c3b4731",
   "metadata": {},
   "outputs": [
    {
     "data": {
      "text/plain": [
       "8"
      ]
     },
     "execution_count": 3,
     "metadata": {},
     "output_type": "execute_result"
    }
   ],
   "source": [
    "len(students)"
   ]
  },
  {
   "cell_type": "code",
   "execution_count": 4,
   "id": "fc009f4f",
   "metadata": {},
   "outputs": [
    {
     "data": {
      "text/plain": [
       "{'Name': 'Pardha Saradhi',\n",
       " 'Reason': 'To be part of ITVersity Professionals Database to work on paid part-time opportunities',\n",
       " 'Current Status': 'Experienced Professionals (10+ years of experience)',\n",
       " 'Python Rating': '3',\n",
       " 'Scheduled Date': '7/31/2021',\n",
       " 'Current Country': 'India'}"
      ]
     },
     "execution_count": 4,
     "metadata": {},
     "output_type": "execute_result"
    }
   ],
   "source": [
    "students[0]"
   ]
  },
  {
   "cell_type": "code",
   "execution_count": 5,
   "id": "fc733311",
   "metadata": {},
   "outputs": [
    {
     "data": {
      "text/plain": [
       "dict"
      ]
     },
     "execution_count": 5,
     "metadata": {},
     "output_type": "execute_result"
    }
   ],
   "source": [
    "type(students[0])"
   ]
  },
  {
   "cell_type": "markdown",
   "id": "535edcfd",
   "metadata": {},
   "source": [
    "### Step 2: Provide the solution\n",
    "\n",
    "Now come up with the solution by developing the required logic. Once the function is developed, go to the next step to take care of the validation."
   ]
  },
  {
   "cell_type": "code",
   "execution_count": 6,
   "id": "256e3e47",
   "metadata": {},
   "outputs": [],
   "source": [
    "def get_unique_reasons(students):\n",
    "   \n",
    "    return unique_reasons"
   ]
  },
  {
   "cell_type": "markdown",
   "id": "678b14eb",
   "metadata": {},
   "source": [
    "### Step 3: Validate the function\n",
    "\n",
    "Let us validate the function by running below cells.\n",
    "* Here is the expected output.\n",
    "\n",
    "```python\n",
    "['Placement Assistance for full time opportunities',\n",
    " 'Self assess to understand where I stand in Python',\n",
    " 'Technical Screening Preparation (tests as well as interviews)',\n",
    " 'To be part of ITVersity Professionals Database to work on paid part-time opportunities']\n",
    "```"
   ]
  },
  {
   "cell_type": "code",
   "execution_count": 7,
   "id": "90885624",
   "metadata": {},
   "outputs": [
    {
     "ename": "NameError",
     "evalue": "name 'unique_reasons' is not defined",
     "output_type": "error",
     "traceback": [
      "\u001b[1;31m---------------------------------------------------------------------------\u001b[0m",
      "\u001b[1;31mNameError\u001b[0m                                 Traceback (most recent call last)",
      "Input \u001b[1;32mIn [7]\u001b[0m, in \u001b[0;36m<cell line: 1>\u001b[1;34m()\u001b[0m\n\u001b[1;32m----> 1\u001b[0m unique_reasons \u001b[38;5;241m=\u001b[39m \u001b[43mget_unique_reasons\u001b[49m\u001b[43m(\u001b[49m\u001b[43mstudents\u001b[49m\u001b[43m)\u001b[49m\n",
      "Input \u001b[1;32mIn [6]\u001b[0m, in \u001b[0;36mget_unique_reasons\u001b[1;34m(students)\u001b[0m\n\u001b[0;32m      1\u001b[0m \u001b[38;5;28;01mdef\u001b[39;00m \u001b[38;5;21mget_unique_reasons\u001b[39m(students):\n\u001b[1;32m----> 3\u001b[0m     \u001b[38;5;28;01mreturn\u001b[39;00m \u001b[43munique_reasons\u001b[49m\n",
      "\u001b[1;31mNameError\u001b[0m: name 'unique_reasons' is not defined"
     ]
    }
   ],
   "source": [
    "unique_reasons = get_unique_reasons(students)"
   ]
  },
  {
   "cell_type": "code",
   "execution_count": 54,
   "id": "b2945b37",
   "metadata": {},
   "outputs": [
    {
     "data": {
      "text/plain": [
       "4"
      ]
     },
     "execution_count": 54,
     "metadata": {},
     "output_type": "execute_result"
    }
   ],
   "source": [
    "len(unique_reasons) # 38"
   ]
  },
  {
   "cell_type": "code",
   "execution_count": 55,
   "id": "a4bab32e",
   "metadata": {},
   "outputs": [
    {
     "data": {
      "text/plain": [
       "set"
      ]
     },
     "execution_count": 55,
     "metadata": {},
     "output_type": "execute_result"
    }
   ],
   "source": [
    "type(unique_reasons) # list"
   ]
  },
  {
   "cell_type": "code",
   "execution_count": 56,
   "id": "66ca868f",
   "metadata": {
    "scrolled": true
   },
   "outputs": [
    {
     "ename": "TypeError",
     "evalue": "'set' object is not subscriptable",
     "output_type": "error",
     "traceback": [
      "\u001b[1;31m---------------------------------------------------------------------------\u001b[0m",
      "\u001b[1;31mTypeError\u001b[0m                                 Traceback (most recent call last)",
      "Input \u001b[1;32mIn [56]\u001b[0m, in \u001b[0;36m<cell line: 1>\u001b[1;34m()\u001b[0m\n\u001b[1;32m----> 1\u001b[0m \u001b[38;5;28mtype\u001b[39m(\u001b[43munique_reasons\u001b[49m\u001b[43m[\u001b[49m\u001b[38;5;241;43m0\u001b[39;49m\u001b[43m]\u001b[49m)\n",
      "\u001b[1;31mTypeError\u001b[0m: 'set' object is not subscriptable"
     ]
    }
   ],
   "source": [
    "type(unique_reasons[0]) # str"
   ]
  },
  {
   "cell_type": "code",
   "execution_count": 57,
   "id": "dccd351f",
   "metadata": {
    "collapsed": true
   },
   "outputs": [
    {
     "ename": "TypeError",
     "evalue": "'set' object is not subscriptable",
     "output_type": "error",
     "traceback": [
      "\u001b[1;31m---------------------------------------------------------------------------\u001b[0m",
      "\u001b[1;31mTypeError\u001b[0m                                 Traceback (most recent call last)",
      "Input \u001b[1;32mIn [57]\u001b[0m, in \u001b[0;36m<cell line: 1>\u001b[1;34m()\u001b[0m\n\u001b[1;32m----> 1\u001b[0m \u001b[38;5;28mprint\u001b[39m(\u001b[43munique_reasons\u001b[49m\u001b[43m[\u001b[49m\u001b[38;5;241;43m0\u001b[39;49m\u001b[43m]\u001b[49m)\n",
      "\u001b[1;31mTypeError\u001b[0m: 'set' object is not subscriptable"
     ]
    }
   ],
   "source": [
    "print(unique_reasons[0]) # 'Placement Assistance for full time opportunities'"
   ]
  },
  {
   "cell_type": "code",
   "execution_count": null,
   "id": "de12f58c",
   "metadata": {},
   "outputs": [],
   "source": []
  }
 ],
 "metadata": {
  "kernelspec": {
   "display_name": "Python 3 (ipykernel)",
   "language": "python",
   "name": "python3"
  },
  "language_info": {
   "codemirror_mode": {
    "name": "ipython",
    "version": 3
   },
   "file_extension": ".py",
   "mimetype": "text/x-python",
   "name": "python",
   "nbconvert_exporter": "python",
   "pygments_lexer": "ipython3",
   "version": "3.9.12"
  }
 },
 "nbformat": 4,
 "nbformat_minor": 5
}
