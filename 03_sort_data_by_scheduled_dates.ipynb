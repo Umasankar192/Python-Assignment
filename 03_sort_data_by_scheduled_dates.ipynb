{
 "cells": [
  {
   "cell_type": "markdown",
   "id": "b168e197",
   "metadata": {},
   "source": [
    "## Sort Data by Scheduled Dates\n",
    "\n",
    "Develop logic to sort the data by scheduled dates. We will be providing list of tuples which contain Name, Location, Scheduled Date.\n",
    "* Create a function which take list (which contain tuples) as argument and return sorted list with tuples.\n",
    "* Data should be sorted in ascending order by date and then in ascending order by name.\n",
    "\n",
    "**Hint: Use `sorted` function to come up with the solution**"
   ]
  },
  {
   "cell_type": "code",
   "execution_count": 5,
   "id": "f30552d0",
   "metadata": {},
   "outputs": [],
   "source": [
    "aspirants = [('Pardha Saradhi', 'India', '7/31/2021'),\n",
    " ('Asasri', 'India', '8/10/2021'),\n",
    " ('Sai Akshith', 'India', '7/30/2021'),\n",
    " ('Anmol', 'India', '7/5/2021'),\n",
    " ('Shravan', 'India', '7/28/2021'),\n",
    " ('Aditya', 'USA', '7/31/2021'),\n",
    " ('Prasanth ', 'USA', '8/14/2021'),\n",
    " ('Sahana', 'India', '7/26/2021'),\n",
    " ('Surendranatha Reddy', 'India', '7/25/2021'),\n",
    " ('Venkat ', 'USA', '7/26/2021')]"
   ]
  },
  {
   "cell_type": "markdown",
   "id": "0008cbe7",
   "metadata": {},
   "source": [
    "### Step 1: Preview the data\n",
    "\n",
    "Let us first preview the data."
   ]
  },
  {
   "cell_type": "code",
   "execution_count": 6,
   "id": "c07152ab",
   "metadata": {},
   "outputs": [
    {
     "data": {
      "text/plain": [
       "[('Pardha Saradhi', 'India', '7/31/2021'),\n",
       " ('Asasri', 'India', '8/10/2021'),\n",
       " ('Sai Akshith', 'India', '7/30/2021'),\n",
       " ('Anmol', 'India', '7/5/2021'),\n",
       " ('Shravan', 'India', '7/28/2021'),\n",
       " ('Aditya', 'USA', '7/31/2021'),\n",
       " ('Prasanth ', 'USA', '8/14/2021'),\n",
       " ('Sahana', 'India', '7/26/2021'),\n",
       " ('Surendranatha Reddy', 'India', '7/25/2021'),\n",
       " ('Venkat ', 'USA', '7/26/2021')]"
      ]
     },
     "execution_count": 6,
     "metadata": {},
     "output_type": "execute_result"
    }
   ],
   "source": [
    "aspirants"
   ]
  },
  {
   "cell_type": "code",
   "execution_count": 7,
   "id": "39fba91c",
   "metadata": {},
   "outputs": [
    {
     "data": {
      "text/plain": [
       "list"
      ]
     },
     "execution_count": 7,
     "metadata": {},
     "output_type": "execute_result"
    }
   ],
   "source": [
    "type(aspirants)"
   ]
  },
  {
   "cell_type": "code",
   "execution_count": 8,
   "id": "a5a06a85",
   "metadata": {},
   "outputs": [
    {
     "data": {
      "text/plain": [
       "10"
      ]
     },
     "execution_count": 8,
     "metadata": {},
     "output_type": "execute_result"
    }
   ],
   "source": [
    "len(aspirants)"
   ]
  },
  {
   "cell_type": "code",
   "execution_count": 9,
   "id": "0e91f1ca",
   "metadata": {},
   "outputs": [
    {
     "name": "stdout",
     "output_type": "stream",
     "text": [
      "The type of value ('Pardha Saradhi', 'India', '7/31/2021') is <class 'tuple'>\n",
      "The type of value ('Asasri', 'India', '8/10/2021') is <class 'tuple'>\n",
      "The type of value ('Sai Akshith', 'India', '7/30/2021') is <class 'tuple'>\n",
      "The type of value ('Anmol', 'India', '7/5/2021') is <class 'tuple'>\n",
      "The type of value ('Shravan', 'India', '7/28/2021') is <class 'tuple'>\n",
      "The type of value ('Aditya', 'USA', '7/31/2021') is <class 'tuple'>\n",
      "The type of value ('Prasanth ', 'USA', '8/14/2021') is <class 'tuple'>\n",
      "The type of value ('Sahana', 'India', '7/26/2021') is <class 'tuple'>\n",
      "The type of value ('Surendranatha Reddy', 'India', '7/25/2021') is <class 'tuple'>\n",
      "The type of value ('Venkat ', 'USA', '7/26/2021') is <class 'tuple'>\n"
     ]
    }
   ],
   "source": [
    "for aspirant in aspirants:\n",
    "    print(f'The type of value {aspirant} is {type(aspirant)}')"
   ]
  },
  {
   "cell_type": "markdown",
   "id": "1befa4cd",
   "metadata": {},
   "source": [
    "### Step 2: Provide the solution\n",
    "\n",
    "Now come up with the solution by developing the required logic. Once the function is developed, go to the next step to take care of the validation."
   ]
  },
  {
   "cell_type": "code",
   "execution_count": 15,
   "id": "91107223",
   "metadata": {},
   "outputs": [],
   "source": [
    "# The logic should go here\n",
    "def sort_data_by_scheduled_date(aspirants):\n",
    "    sorted_aspirants = sorted(aspirants, key = lambda x: x[2])\n",
    "    return sorted_aspirants"
   ]
  },
  {
   "cell_type": "markdown",
   "id": "deec8a70",
   "metadata": {},
   "source": [
    "### Step 3: Validate the function\n",
    "\n",
    "Let us validate the function by running below cells.\n",
    "* Here is the expected output.\n",
    "\n",
    "```python\n",
    "[('Anmol', 'India', '7/5/2021'),\n",
    " ('Surendranatha Reddy', 'India', '7/25/2021'),\n",
    " ('Sahana', 'India', '7/26/2021'),\n",
    " ('Venkat ', 'USA', '7/26/2021'),\n",
    " ('Shravan', 'India', '7/28/2021'),\n",
    " ('Sai Akshith', 'India', '7/30/2021'),\n",
    " ('Aditya', 'USA', '7/31/2021'),\n",
    " ('Pardha Saradhi', 'India', '7/31/2021'),\n",
    " ('Asasri', 'India', '8/10/2021'),\n",
    " ('Prasanth ', 'USA', '8/14/2021')]\n",
    "```"
   ]
  },
  {
   "cell_type": "code",
   "execution_count": 16,
   "id": "1df087dc",
   "metadata": {},
   "outputs": [
    {
     "data": {
      "text/plain": [
       "[('Surendranatha Reddy', 'India', '7/25/2021'),\n",
       " ('Sahana', 'India', '7/26/2021'),\n",
       " ('Venkat ', 'USA', '7/26/2021'),\n",
       " ('Shravan', 'India', '7/28/2021'),\n",
       " ('Sai Akshith', 'India', '7/30/2021'),\n",
       " ('Pardha Saradhi', 'India', '7/31/2021'),\n",
       " ('Aditya', 'USA', '7/31/2021'),\n",
       " ('Anmol', 'India', '7/5/2021'),\n",
       " ('Asasri', 'India', '8/10/2021'),\n",
       " ('Prasanth ', 'USA', '8/14/2021')]"
      ]
     },
     "execution_count": 16,
     "metadata": {},
     "output_type": "execute_result"
    }
   ],
   "source": [
    "sorted_aspirants = sort_data_by_scheduled_date(aspirants)\n",
    "sorted_aspirants"
   ]
  },
  {
   "cell_type": "code",
   "execution_count": 17,
   "id": "cbf46988",
   "metadata": {},
   "outputs": [
    {
     "data": {
      "text/plain": [
       "list"
      ]
     },
     "execution_count": 17,
     "metadata": {},
     "output_type": "execute_result"
    }
   ],
   "source": [
    "type(sorted_aspirants) # It should be list"
   ]
  },
  {
   "cell_type": "code",
   "execution_count": 18,
   "id": "be2e2477",
   "metadata": {
    "scrolled": true
   },
   "outputs": [
    {
     "data": {
      "text/plain": [
       "10"
      ]
     },
     "execution_count": 18,
     "metadata": {},
     "output_type": "execute_result"
    }
   ],
   "source": [
    "len(sorted_aspirants) # It should be 10"
   ]
  },
  {
   "cell_type": "code",
   "execution_count": 19,
   "id": "542983cc",
   "metadata": {},
   "outputs": [
    {
     "data": {
      "text/plain": [
       "tuple"
      ]
     },
     "execution_count": 19,
     "metadata": {},
     "output_type": "execute_result"
    }
   ],
   "source": [
    "type(sorted_aspirants[0]) # It should be tuple."
   ]
  },
  {
   "cell_type": "code",
   "execution_count": null,
   "id": "b483b29e",
   "metadata": {},
   "outputs": [],
   "source": []
  }
 ],
 "metadata": {
  "kernelspec": {
   "display_name": "Python 3 (ipykernel)",
   "language": "python",
   "name": "python3"
  },
  "language_info": {
   "codemirror_mode": {
    "name": "ipython",
    "version": 3
   },
   "file_extension": ".py",
   "mimetype": "text/x-python",
   "name": "python",
   "nbconvert_exporter": "python",
   "pygments_lexer": "ipython3",
   "version": "3.9.12"
  }
 },
 "nbformat": 4,
 "nbformat_minor": 5
}
