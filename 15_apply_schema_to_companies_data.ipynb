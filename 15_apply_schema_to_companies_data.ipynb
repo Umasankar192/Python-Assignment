{
 "cells": [
  {
   "cell_type": "markdown",
   "id": "57800c47",
   "metadata": {},
   "source": [
    "## Apply Schema to Companies Data\n",
    "\n",
    "Develop a function which applies schema on top of data. The function shall take 2 arguments - data and attributes.\n",
    "* Data should be passed in the form list of comma separated strings.\n",
    "* Attributes should be passed in the form of a comma separated string.\n",
    "* The function should return list of dicts. Refer to desired output.\n",
    "* Make sure the numeric types in the dict are of type float.\n",
    "\n",
    "**Hint: This scanerio is to be solved by using zip() function**"
   ]
  },
  {
   "cell_type": "code",
   "execution_count": 2,
   "id": "b4171d87",
   "metadata": {},
   "outputs": [],
   "source": [
    "fields = 'Name,Sector,Price,Dividend,EarningsPerShare'"
   ]
  },
  {
   "cell_type": "code",
   "execution_count": 3,
   "id": "ea0cfd96",
   "metadata": {},
   "outputs": [],
   "source": [
    "companies = [\n",
    "'Accenture,IT,222.89,2.33,7.92',\n",
    "'Apple,IT,155.15,1.57,9.2',\n",
    "'Adobe Systems Inc,IT,185.16,0,3.39',\n",
    "'Alphabet,IT,1007.71,0,22.27',\n",
    "'ebay Inc,IT,41.02,0,-1.07',\n",
    "'Hewlett Packard Enterprise,IT,15.04,1.92,0.21',\n",
    "'Intel Corp,IT,42.75,2.65,1.98',\n",
    "'Microsoft Corp,IT,85.01,1.87,2.97',\n",
    "'Netflix Inc,IT,250.01,0,1.25']"
   ]
  },
  {
   "cell_type": "code",
   "execution_count": 14,
   "id": "49ce9442",
   "metadata": {},
   "outputs": [
    {
     "name": "stdout",
     "output_type": "stream",
     "text": [
      "0\n",
      "Accenture\n",
      "1\n",
      "IT\n",
      "2\n",
      "222.89\n",
      "3\n",
      "2.33\n",
      "4\n",
      "7.92\n"
     ]
    },
    {
     "ename": "IndexError",
     "evalue": "list index out of range",
     "output_type": "error",
     "traceback": [
      "\u001b[1;31m---------------------------------------------------------------------------\u001b[0m",
      "\u001b[1;31mIndexError\u001b[0m                                Traceback (most recent call last)",
      "Input \u001b[1;32mIn [14]\u001b[0m, in \u001b[0;36m<cell line: 4>\u001b[1;34m()\u001b[0m\n\u001b[0;32m      4\u001b[0m \u001b[38;5;28;01mfor\u001b[39;00m i \u001b[38;5;129;01min\u001b[39;00m companies:\n\u001b[0;32m      5\u001b[0m     \u001b[38;5;28;01mfor\u001b[39;00m j \u001b[38;5;129;01min\u001b[39;00m i\u001b[38;5;241m.\u001b[39msplit(\u001b[38;5;124m\"\u001b[39m\u001b[38;5;124m,\u001b[39m\u001b[38;5;124m\"\u001b[39m):\n\u001b[1;32m----> 6\u001b[0m         \u001b[38;5;28mdir\u001b[39m[\u001b[43mlis\u001b[49m\u001b[43m[\u001b[49m\u001b[43ma\u001b[49m\u001b[43m]\u001b[49m] \u001b[38;5;241m=\u001b[39mj\n\u001b[0;32m      7\u001b[0m         \u001b[38;5;28mprint\u001b[39m(a)\n\u001b[0;32m      8\u001b[0m         \u001b[38;5;28mprint\u001b[39m(j)\n",
      "\u001b[1;31mIndexError\u001b[0m: list index out of range"
     ]
    }
   ],
   "source": [
    "lis = ['Name','Sector','Price','Dividend','EarningsPerShare']\n",
    "dir={}\n",
    "a=0\n",
    "for i in companies:\n",
    "    for j in i.split(\",\"):\n",
    "        dir[lis[a]] =j\n",
    "        print(a)\n",
    "        print(j)\n",
    "        a=a+1\n",
    "        \n",
    "print(dir)"
   ]
  },
  {
   "cell_type": "markdown",
   "id": "6f32ec1c",
   "metadata": {},
   "source": [
    "### Step 1: Preview the Data\n",
    "Let us preview the data."
   ]
  },
  {
   "cell_type": "code",
   "execution_count": 16,
   "id": "94aa98ef",
   "metadata": {},
   "outputs": [
    {
     "data": {
      "text/plain": [
       "'Name,Sector,Price,Dividend,EarningsPerShare'"
      ]
     },
     "execution_count": 16,
     "metadata": {},
     "output_type": "execute_result"
    }
   ],
   "source": [
    "fields"
   ]
  },
  {
   "cell_type": "code",
   "execution_count": 17,
   "id": "a326bb9b",
   "metadata": {},
   "outputs": [
    {
     "data": {
      "text/plain": [
       "str"
      ]
     },
     "execution_count": 17,
     "metadata": {},
     "output_type": "execute_result"
    }
   ],
   "source": [
    "type(fields)"
   ]
  },
  {
   "cell_type": "code",
   "execution_count": 18,
   "id": "83694e03",
   "metadata": {
    "scrolled": true
   },
   "outputs": [
    {
     "data": {
      "text/plain": [
       "['Accenture,IT,222.89,2.33,7.92',\n",
       " 'Apple,IT,155.15,1.57,9.2',\n",
       " 'Adobe Systems Inc,IT,185.16,0,3.39',\n",
       " 'Alphabet,IT,1007.71,0,22.27',\n",
       " 'ebay Inc,IT,41.02,0,-1.07',\n",
       " 'Hewlett Packard Enterprise,IT,15.04,1.92,0.21',\n",
       " 'Intel Corp,IT,42.75,2.65,1.98',\n",
       " 'Microsoft Corp,IT,85.01,1.87,2.97',\n",
       " 'Netflix Inc,IT,250.01,0,1.25']"
      ]
     },
     "execution_count": 18,
     "metadata": {},
     "output_type": "execute_result"
    }
   ],
   "source": [
    "companies"
   ]
  },
  {
   "cell_type": "code",
   "execution_count": 7,
   "id": "e7380ab7",
   "metadata": {},
   "outputs": [
    {
     "data": {
      "text/plain": [
       "list"
      ]
     },
     "execution_count": 7,
     "metadata": {},
     "output_type": "execute_result"
    }
   ],
   "source": [
    "type(companies)"
   ]
  },
  {
   "cell_type": "code",
   "execution_count": 19,
   "id": "5b04c1c9",
   "metadata": {},
   "outputs": [
    {
     "data": {
      "text/plain": [
       "'Accenture,IT,222.89,2.33,7.92'"
      ]
     },
     "execution_count": 19,
     "metadata": {},
     "output_type": "execute_result"
    }
   ],
   "source": [
    "companies[0]"
   ]
  },
  {
   "cell_type": "code",
   "execution_count": 20,
   "id": "c3647778",
   "metadata": {},
   "outputs": [
    {
     "data": {
      "text/plain": [
       "str"
      ]
     },
     "execution_count": 20,
     "metadata": {},
     "output_type": "execute_result"
    }
   ],
   "source": [
    "type(companies[0])"
   ]
  },
  {
   "cell_type": "markdown",
   "id": "9461e74f",
   "metadata": {},
   "source": [
    "### Step 2: Provide the Solution\n",
    "Provide the solution below."
   ]
  },
  {
   "cell_type": "code",
   "execution_count": 23,
   "id": "18dbd0aa",
   "metadata": {},
   "outputs": [],
   "source": [
    "def get_companies_with_attrs(companies, fields):\n",
    "    # Develop your logic here\n",
    "    return companies_with_attrs"
   ]
  },
  {
   "cell_type": "markdown",
   "id": "63a5b904",
   "metadata": {},
   "source": [
    "### Step 3: Validate the function\n",
    "Let us validate the function by running the below cells.\n",
    "\n",
    "Here is the desired output\n",
    "```python\n",
    "[{'Name': 'Accenture',\n",
    "  'Sector': 'IT',\n",
    "  'Price': 222.89,\n",
    "  'Dividend': 2.33,\n",
    "  'EarningsPerShare': 7.92},\n",
    " {'Name': 'Apple',\n",
    "  'Sector': 'IT',\n",
    "  'Price': 155.15,\n",
    "  'Dividend': 1.57,\n",
    "  'EarningsPerShare': 9.2},\n",
    " {'Name': 'Adobe Systems Inc',\n",
    "  'Sector': 'IT',\n",
    "  'Price': 185.16,\n",
    "  'Dividend': 0.0,\n",
    "  'EarningsPerShare': 3.39},\n",
    " {'Name': 'Alphabet',\n",
    "  'Sector': 'IT',\n",
    "  'Price': 1007.71,\n",
    "  'Dividend': 0.0,\n",
    "  'EarningsPerShare': 22.27},\n",
    " {'Name': 'ebay Inc',\n",
    "  'Sector': 'IT',\n",
    "  'Price': 41.02,\n",
    "  'Dividend': 0.0,\n",
    "  'EarningsPerShare': -1.07},\n",
    " {'Name': 'Hewlett Packard Enterprise',\n",
    "  'Sector': 'IT',\n",
    "  'Price': 15.04,\n",
    "  'Dividend': 1.92,\n",
    "  'EarningsPerShare': 0.21},\n",
    " {'Name': 'Intel Corp',\n",
    "  'Sector': 'IT',\n",
    "  'Price': 42.75,\n",
    "  'Dividend': 2.65,\n",
    "  'EarningsPerShare': 1.98},\n",
    " {'Name': 'Microsoft Corp',\n",
    "  'Sector': 'IT',\n",
    "  'Price': 85.01,\n",
    "  'Dividend': 1.87,\n",
    "  'EarningsPerShare': 2.97},\n",
    " {'Name': 'Netflix Inc',\n",
    "  'Sector': 'IT',\n",
    "  'Price': 250.01,\n",
    "  'Dividend': 0.0,\n",
    "  'EarningsPerShare': 1.25}]\n",
    "```"
   ]
  },
  {
   "cell_type": "code",
   "execution_count": 24,
   "id": "a4d21221",
   "metadata": {},
   "outputs": [
    {
     "ename": "TypeError",
     "evalue": "map() must have at least two arguments.",
     "output_type": "error",
     "traceback": [
      "\u001b[1;31m---------------------------------------------------------------------------\u001b[0m",
      "\u001b[1;31mTypeError\u001b[0m                                 Traceback (most recent call last)",
      "Input \u001b[1;32mIn [24]\u001b[0m, in \u001b[0;36m<cell line: 1>\u001b[1;34m()\u001b[0m\n\u001b[1;32m----> 1\u001b[0m companies_with_attrs\u001b[38;5;241m=\u001b[39m\u001b[43mget_companies_with_attrs\u001b[49m\u001b[43m(\u001b[49m\u001b[43mcompanies\u001b[49m\u001b[43m,\u001b[49m\u001b[43m \u001b[49m\u001b[43mfields\u001b[49m\u001b[43m)\u001b[49m\n\u001b[0;32m      2\u001b[0m companies_with_attrs\n",
      "Input \u001b[1;32mIn [23]\u001b[0m, in \u001b[0;36mget_companies_with_attrs\u001b[1;34m(companies, fields)\u001b[0m\n\u001b[0;32m      1\u001b[0m \u001b[38;5;28;01mdef\u001b[39;00m \u001b[38;5;21mget_companies_with_attrs\u001b[39m(companies, fields):\n\u001b[0;32m      2\u001b[0m     \u001b[38;5;66;03m# Develop your logic here\u001b[39;00m\n\u001b[1;32m----> 3\u001b[0m     companies_with_attrs \u001b[38;5;241m=\u001b[39m  \u001b[38;5;28mlist\u001b[39m(\u001b[38;5;28;43mmap\u001b[39;49m\u001b[43m(\u001b[49m\u001b[38;5;28;43;01mlambda\u001b[39;49;00m\u001b[43m \u001b[49m\u001b[43mcompanies\u001b[49m\u001b[43m:\u001b[49m\u001b[43m \u001b[49m\u001b[38;5;28;43mdict\u001b[39;49m\u001b[43m(\u001b[49m\u001b[38;5;28;43mzip\u001b[39;49m\u001b[43m(\u001b[49m\u001b[43mfield\u001b[49m\u001b[38;5;241;43m.\u001b[39;49m\u001b[43msplit\u001b[49m\u001b[43m(\u001b[49m\u001b[38;5;124;43m'\u001b[39;49m\u001b[38;5;124;43m,\u001b[39;49m\u001b[38;5;124;43m'\u001b[39;49m\u001b[43m,\u001b[49m\u001b[38;5;28;43mmap\u001b[39;49m\u001b[43m(\u001b[49m\u001b[38;5;28;43;01mlambda\u001b[39;49;00m\u001b[43m \u001b[49m\u001b[43mitem\u001b[49m\u001b[43m:\u001b[49m\u001b[43m \u001b[49m\u001b[43mfields\u001b[49m\u001b[43m(\u001b[49m\u001b[43mitem\u001b[49m\u001b[43m)\u001b[49m\u001b[43m)\u001b[49m\u001b[43m)\u001b[49m\u001b[43m)\u001b[49m\u001b[43m)\u001b[49m\u001b[43m  \u001b[49m\u001b[43m)\u001b[49m)\n\u001b[0;32m      4\u001b[0m     \u001b[38;5;28;01mreturn\u001b[39;00m companies_with_attrs\n",
      "\u001b[1;31mTypeError\u001b[0m: map() must have at least two arguments."
     ]
    }
   ],
   "source": [
    "companies_with_attrs=get_companies_with_attrs(companies, fields)\n",
    "companies_with_attrs"
   ]
  },
  {
   "cell_type": "code",
   "execution_count": null,
   "id": "8b32bc06",
   "metadata": {},
   "outputs": [],
   "source": [
    "type(companies_with_attrs) # list"
   ]
  },
  {
   "cell_type": "code",
   "execution_count": null,
   "id": "152610bd",
   "metadata": {},
   "outputs": [],
   "source": [
    "len(companies_with_attrs) # 9"
   ]
  },
  {
   "cell_type": "code",
   "execution_count": null,
   "id": "17370a88",
   "metadata": {},
   "outputs": [],
   "source": [
    "companies_with_attrs[0] # {'Name': 'Accenture','Sector': 'IT','Price': 222.89,'Dividend': 2.33,'EarningsPerShare': 7.92}"
   ]
  },
  {
   "cell_type": "code",
   "execution_count": null,
   "id": "9591c760",
   "metadata": {},
   "outputs": [],
   "source": [
    "type(companies_with_attrs[0]) # dict"
   ]
  },
  {
   "cell_type": "code",
   "execution_count": null,
   "id": "ae1534f1",
   "metadata": {},
   "outputs": [],
   "source": [
    "type(companies_with_attrs[0]['Price']) # float"
   ]
  }
 ],
 "metadata": {
  "kernelspec": {
   "display_name": "Python 3 (ipykernel)",
   "language": "python",
   "name": "python3"
  },
  "language_info": {
   "codemirror_mode": {
    "name": "ipython",
    "version": 3
   },
   "file_extension": ".py",
   "mimetype": "text/x-python",
   "name": "python",
   "nbconvert_exporter": "python",
   "pygments_lexer": "ipython3",
   "version": "3.9.12"
  }
 },
 "nbformat": 4,
 "nbformat_minor": 5
}
