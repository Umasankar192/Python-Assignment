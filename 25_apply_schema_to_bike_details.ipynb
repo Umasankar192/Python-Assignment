{
 "cells": [
  {
   "cell_type": "markdown",
   "id": "4209fb07",
   "metadata": {},
   "source": [
    "## Apply Schema to bike details\n",
    "\n",
    "Develop a fuction to apply schema to the list where each element contain bike details.\n",
    "* The function should take 2 arguments - list of tuples which contain bike details and list of strings with the attribute names.\n",
    "* We need to convert the list of tuples to list of dicts and the keys should be based on the attributes.\n",
    "* The output should be sorted in the descending order by selling_price and then in ascending order by name."
   ]
  },
  {
   "cell_type": "code",
   "execution_count": 8,
   "id": "6a94f0aa",
   "metadata": {},
   "outputs": [],
   "source": [
    "attributes = ['name', 'selling_price', 'year', 'seller_type', 'owner', 'km_driven']"
   ]
  },
  {
   "cell_type": "code",
   "execution_count": 9,
   "id": "35e1bec5",
   "metadata": {},
   "outputs": [],
   "source": [
    "bike_details = [('Royal Enfield Classic 350', 175000, 2019, 'Individual', '1st owner', 350),\n",
    " ('Honda Dio', 45000, 2017, 'Individual', '1st owner', 5650),\n",
    " ('Royal Enfield Classic Gunmetal Grey', 150000, 2018, 'Individual', '1st owner', 12000),\n",
    " ('Yamaha Fazer FI V 2.0 [2016-2018]', 65000, 2015, 'Individual', '1st owner', 23000),\n",
    " ('Yamaha SZ [2013-2014]', 20000, 2011, 'Individual', '2nd owner', 21000),\n",
    " ('Honda CB Twister', 18000, 2010, 'Individual', '1st owner', 60000),\n",
    " ('Honda CB Hornet 160R', 78500, 2018, 'Individual', '1st owner', 17000),\n",
    " ('Royal Enfield Bullet 350 [2007-2011]', 180000, 2008, 'Individual', '2nd owner', 39000),\n",
    " ('Hero Honda CBZ extreme', 30000, 2010, 'Individual', '1st owner', 32000),\n",
    " ('Bajaj Discover 125', 50000, 2016, 'Individual', '1st owner', 42000)]"
   ]
  },
  {
   "cell_type": "code",
   "execution_count": null,
   "id": "c5467dac",
   "metadata": {},
   "outputs": [],
   "source": []
  },
  {
   "cell_type": "code",
   "execution_count": 6,
   "id": "2adcba87",
   "metadata": {
    "scrolled": true
   },
   "outputs": [
    {
     "data": {
      "text/plain": [
       "{}"
      ]
     },
     "execution_count": 6,
     "metadata": {},
     "output_type": "execute_result"
    }
   ],
   "source": [
    "a = dict()\n",
    "a"
   ]
  },
  {
   "cell_type": "code",
   "execution_count": 13,
   "id": "3a4a75b2",
   "metadata": {},
   "outputs": [
    {
     "data": {
      "text/plain": [
       "[('Royal Enfield Classic 350', 175000, 2019, 'Individual', '1st owner', 350),\n",
       " ('Honda Dio', 45000, 2017, 'Individual', '1st owner', 5650),\n",
       " ('Royal Enfield Classic Gunmetal Grey',\n",
       "  150000,\n",
       "  2018,\n",
       "  'Individual',\n",
       "  '1st owner',\n",
       "  12000),\n",
       " ('Yamaha Fazer FI V 2.0 [2016-2018]',\n",
       "  65000,\n",
       "  2015,\n",
       "  'Individual',\n",
       "  '1st owner',\n",
       "  23000),\n",
       " ('Yamaha SZ [2013-2014]', 20000, 2011, 'Individual', '2nd owner', 21000),\n",
       " ('Honda CB Twister', 18000, 2010, 'Individual', '1st owner', 60000),\n",
       " ('Honda CB Hornet 160R', 78500, 2018, 'Individual', '1st owner', 17000),\n",
       " ('Royal Enfield Bullet 350 [2007-2011]',\n",
       "  180000,\n",
       "  2008,\n",
       "  'Individual',\n",
       "  '2nd owner',\n",
       "  39000),\n",
       " ('Hero Honda CBZ extreme', 30000, 2010, 'Individual', '1st owner', 32000),\n",
       " ('Bajaj Discover 125', 50000, 2016, 'Individual', '1st owner', 42000)]"
      ]
     },
     "execution_count": 13,
     "metadata": {},
     "output_type": "execute_result"
    }
   ],
   "source": [
    "bike_details"
   ]
  },
  {
   "cell_type": "code",
   "execution_count": 12,
   "id": "1b9c6303",
   "metadata": {},
   "outputs": [
    {
     "data": {
      "text/plain": [
       "[{'name': 'Royal Enfield Classic 350'},\n",
       " {'selling_price': 'Royal Enfield Classic 350'},\n",
       " {'year': 'Royal Enfield Classic 350'},\n",
       " {'seller_type': 'Royal Enfield Classic 350'},\n",
       " {'owner': 'Royal Enfield Classic 350'},\n",
       " {'km_driven': 'Royal Enfield Classic 350'},\n",
       " {'name': 175000},\n",
       " {'selling_price': 175000},\n",
       " {'year': 175000},\n",
       " {'seller_type': 175000},\n",
       " {'owner': 175000},\n",
       " {'km_driven': 175000},\n",
       " {'name': 2019},\n",
       " {'selling_price': 2019},\n",
       " {'year': 2019},\n",
       " {'seller_type': 2019},\n",
       " {'owner': 2019},\n",
       " {'km_driven': 2019},\n",
       " {'name': 'Individual'},\n",
       " {'selling_price': 'Individual'},\n",
       " {'year': 'Individual'},\n",
       " {'seller_type': 'Individual'},\n",
       " {'owner': 'Individual'},\n",
       " {'km_driven': 'Individual'},\n",
       " {'name': '1st owner'},\n",
       " {'selling_price': '1st owner'},\n",
       " {'year': '1st owner'},\n",
       " {'seller_type': '1st owner'},\n",
       " {'owner': '1st owner'},\n",
       " {'km_driven': '1st owner'},\n",
       " {'name': 350},\n",
       " {'selling_price': 350},\n",
       " {'year': 350},\n",
       " {'seller_type': 350},\n",
       " {'owner': 350},\n",
       " {'km_driven': 350},\n",
       " {'name': 'Honda Dio'},\n",
       " {'selling_price': 'Honda Dio'},\n",
       " {'year': 'Honda Dio'},\n",
       " {'seller_type': 'Honda Dio'},\n",
       " {'owner': 'Honda Dio'},\n",
       " {'km_driven': 'Honda Dio'},\n",
       " {'name': 45000},\n",
       " {'selling_price': 45000},\n",
       " {'year': 45000},\n",
       " {'seller_type': 45000},\n",
       " {'owner': 45000},\n",
       " {'km_driven': 45000},\n",
       " {'name': 2017},\n",
       " {'selling_price': 2017},\n",
       " {'year': 2017},\n",
       " {'seller_type': 2017},\n",
       " {'owner': 2017},\n",
       " {'km_driven': 2017},\n",
       " {'name': 'Individual'},\n",
       " {'selling_price': 'Individual'},\n",
       " {'year': 'Individual'},\n",
       " {'seller_type': 'Individual'},\n",
       " {'owner': 'Individual'},\n",
       " {'km_driven': 'Individual'},\n",
       " {'name': '1st owner'},\n",
       " {'selling_price': '1st owner'},\n",
       " {'year': '1st owner'},\n",
       " {'seller_type': '1st owner'},\n",
       " {'owner': '1st owner'},\n",
       " {'km_driven': '1st owner'},\n",
       " {'name': 5650},\n",
       " {'selling_price': 5650},\n",
       " {'year': 5650},\n",
       " {'seller_type': 5650},\n",
       " {'owner': 5650},\n",
       " {'km_driven': 5650},\n",
       " {'name': 'Royal Enfield Classic Gunmetal Grey'},\n",
       " {'selling_price': 'Royal Enfield Classic Gunmetal Grey'},\n",
       " {'year': 'Royal Enfield Classic Gunmetal Grey'},\n",
       " {'seller_type': 'Royal Enfield Classic Gunmetal Grey'},\n",
       " {'owner': 'Royal Enfield Classic Gunmetal Grey'},\n",
       " {'km_driven': 'Royal Enfield Classic Gunmetal Grey'},\n",
       " {'name': 150000},\n",
       " {'selling_price': 150000},\n",
       " {'year': 150000},\n",
       " {'seller_type': 150000},\n",
       " {'owner': 150000},\n",
       " {'km_driven': 150000},\n",
       " {'name': 2018},\n",
       " {'selling_price': 2018},\n",
       " {'year': 2018},\n",
       " {'seller_type': 2018},\n",
       " {'owner': 2018},\n",
       " {'km_driven': 2018},\n",
       " {'name': 'Individual'},\n",
       " {'selling_price': 'Individual'},\n",
       " {'year': 'Individual'},\n",
       " {'seller_type': 'Individual'},\n",
       " {'owner': 'Individual'},\n",
       " {'km_driven': 'Individual'},\n",
       " {'name': '1st owner'},\n",
       " {'selling_price': '1st owner'},\n",
       " {'year': '1st owner'},\n",
       " {'seller_type': '1st owner'},\n",
       " {'owner': '1st owner'},\n",
       " {'km_driven': '1st owner'},\n",
       " {'name': 12000},\n",
       " {'selling_price': 12000},\n",
       " {'year': 12000},\n",
       " {'seller_type': 12000},\n",
       " {'owner': 12000},\n",
       " {'km_driven': 12000},\n",
       " {'name': 'Yamaha Fazer FI V 2.0 [2016-2018]'},\n",
       " {'selling_price': 'Yamaha Fazer FI V 2.0 [2016-2018]'},\n",
       " {'year': 'Yamaha Fazer FI V 2.0 [2016-2018]'},\n",
       " {'seller_type': 'Yamaha Fazer FI V 2.0 [2016-2018]'},\n",
       " {'owner': 'Yamaha Fazer FI V 2.0 [2016-2018]'},\n",
       " {'km_driven': 'Yamaha Fazer FI V 2.0 [2016-2018]'},\n",
       " {'name': 65000},\n",
       " {'selling_price': 65000},\n",
       " {'year': 65000},\n",
       " {'seller_type': 65000},\n",
       " {'owner': 65000},\n",
       " {'km_driven': 65000},\n",
       " {'name': 2015},\n",
       " {'selling_price': 2015},\n",
       " {'year': 2015},\n",
       " {'seller_type': 2015},\n",
       " {'owner': 2015},\n",
       " {'km_driven': 2015},\n",
       " {'name': 'Individual'},\n",
       " {'selling_price': 'Individual'},\n",
       " {'year': 'Individual'},\n",
       " {'seller_type': 'Individual'},\n",
       " {'owner': 'Individual'},\n",
       " {'km_driven': 'Individual'},\n",
       " {'name': '1st owner'},\n",
       " {'selling_price': '1st owner'},\n",
       " {'year': '1st owner'},\n",
       " {'seller_type': '1st owner'},\n",
       " {'owner': '1st owner'},\n",
       " {'km_driven': '1st owner'},\n",
       " {'name': 23000},\n",
       " {'selling_price': 23000},\n",
       " {'year': 23000},\n",
       " {'seller_type': 23000},\n",
       " {'owner': 23000},\n",
       " {'km_driven': 23000},\n",
       " {'name': 'Yamaha SZ [2013-2014]'},\n",
       " {'selling_price': 'Yamaha SZ [2013-2014]'},\n",
       " {'year': 'Yamaha SZ [2013-2014]'},\n",
       " {'seller_type': 'Yamaha SZ [2013-2014]'},\n",
       " {'owner': 'Yamaha SZ [2013-2014]'},\n",
       " {'km_driven': 'Yamaha SZ [2013-2014]'},\n",
       " {'name': 20000},\n",
       " {'selling_price': 20000},\n",
       " {'year': 20000},\n",
       " {'seller_type': 20000},\n",
       " {'owner': 20000},\n",
       " {'km_driven': 20000},\n",
       " {'name': 2011},\n",
       " {'selling_price': 2011},\n",
       " {'year': 2011},\n",
       " {'seller_type': 2011},\n",
       " {'owner': 2011},\n",
       " {'km_driven': 2011},\n",
       " {'name': 'Individual'},\n",
       " {'selling_price': 'Individual'},\n",
       " {'year': 'Individual'},\n",
       " {'seller_type': 'Individual'},\n",
       " {'owner': 'Individual'},\n",
       " {'km_driven': 'Individual'},\n",
       " {'name': '2nd owner'},\n",
       " {'selling_price': '2nd owner'},\n",
       " {'year': '2nd owner'},\n",
       " {'seller_type': '2nd owner'},\n",
       " {'owner': '2nd owner'},\n",
       " {'km_driven': '2nd owner'},\n",
       " {'name': 21000},\n",
       " {'selling_price': 21000},\n",
       " {'year': 21000},\n",
       " {'seller_type': 21000},\n",
       " {'owner': 21000},\n",
       " {'km_driven': 21000},\n",
       " {'name': 'Honda CB Twister'},\n",
       " {'selling_price': 'Honda CB Twister'},\n",
       " {'year': 'Honda CB Twister'},\n",
       " {'seller_type': 'Honda CB Twister'},\n",
       " {'owner': 'Honda CB Twister'},\n",
       " {'km_driven': 'Honda CB Twister'},\n",
       " {'name': 18000},\n",
       " {'selling_price': 18000},\n",
       " {'year': 18000},\n",
       " {'seller_type': 18000},\n",
       " {'owner': 18000},\n",
       " {'km_driven': 18000},\n",
       " {'name': 2010},\n",
       " {'selling_price': 2010},\n",
       " {'year': 2010},\n",
       " {'seller_type': 2010},\n",
       " {'owner': 2010},\n",
       " {'km_driven': 2010},\n",
       " {'name': 'Individual'},\n",
       " {'selling_price': 'Individual'},\n",
       " {'year': 'Individual'},\n",
       " {'seller_type': 'Individual'},\n",
       " {'owner': 'Individual'},\n",
       " {'km_driven': 'Individual'},\n",
       " {'name': '1st owner'},\n",
       " {'selling_price': '1st owner'},\n",
       " {'year': '1st owner'},\n",
       " {'seller_type': '1st owner'},\n",
       " {'owner': '1st owner'},\n",
       " {'km_driven': '1st owner'},\n",
       " {'name': 60000},\n",
       " {'selling_price': 60000},\n",
       " {'year': 60000},\n",
       " {'seller_type': 60000},\n",
       " {'owner': 60000},\n",
       " {'km_driven': 60000},\n",
       " {'name': 'Honda CB Hornet 160R'},\n",
       " {'selling_price': 'Honda CB Hornet 160R'},\n",
       " {'year': 'Honda CB Hornet 160R'},\n",
       " {'seller_type': 'Honda CB Hornet 160R'},\n",
       " {'owner': 'Honda CB Hornet 160R'},\n",
       " {'km_driven': 'Honda CB Hornet 160R'},\n",
       " {'name': 78500},\n",
       " {'selling_price': 78500},\n",
       " {'year': 78500},\n",
       " {'seller_type': 78500},\n",
       " {'owner': 78500},\n",
       " {'km_driven': 78500},\n",
       " {'name': 2018},\n",
       " {'selling_price': 2018},\n",
       " {'year': 2018},\n",
       " {'seller_type': 2018},\n",
       " {'owner': 2018},\n",
       " {'km_driven': 2018},\n",
       " {'name': 'Individual'},\n",
       " {'selling_price': 'Individual'},\n",
       " {'year': 'Individual'},\n",
       " {'seller_type': 'Individual'},\n",
       " {'owner': 'Individual'},\n",
       " {'km_driven': 'Individual'},\n",
       " {'name': '1st owner'},\n",
       " {'selling_price': '1st owner'},\n",
       " {'year': '1st owner'},\n",
       " {'seller_type': '1st owner'},\n",
       " {'owner': '1st owner'},\n",
       " {'km_driven': '1st owner'},\n",
       " {'name': 17000},\n",
       " {'selling_price': 17000},\n",
       " {'year': 17000},\n",
       " {'seller_type': 17000},\n",
       " {'owner': 17000},\n",
       " {'km_driven': 17000},\n",
       " {'name': 'Royal Enfield Bullet 350 [2007-2011]'},\n",
       " {'selling_price': 'Royal Enfield Bullet 350 [2007-2011]'},\n",
       " {'year': 'Royal Enfield Bullet 350 [2007-2011]'},\n",
       " {'seller_type': 'Royal Enfield Bullet 350 [2007-2011]'},\n",
       " {'owner': 'Royal Enfield Bullet 350 [2007-2011]'},\n",
       " {'km_driven': 'Royal Enfield Bullet 350 [2007-2011]'},\n",
       " {'name': 180000},\n",
       " {'selling_price': 180000},\n",
       " {'year': 180000},\n",
       " {'seller_type': 180000},\n",
       " {'owner': 180000},\n",
       " {'km_driven': 180000},\n",
       " {'name': 2008},\n",
       " {'selling_price': 2008},\n",
       " {'year': 2008},\n",
       " {'seller_type': 2008},\n",
       " {'owner': 2008},\n",
       " {'km_driven': 2008},\n",
       " {'name': 'Individual'},\n",
       " {'selling_price': 'Individual'},\n",
       " {'year': 'Individual'},\n",
       " {'seller_type': 'Individual'},\n",
       " {'owner': 'Individual'},\n",
       " {'km_driven': 'Individual'},\n",
       " {'name': '2nd owner'},\n",
       " {'selling_price': '2nd owner'},\n",
       " {'year': '2nd owner'},\n",
       " {'seller_type': '2nd owner'},\n",
       " {'owner': '2nd owner'},\n",
       " {'km_driven': '2nd owner'},\n",
       " {'name': 39000},\n",
       " {'selling_price': 39000},\n",
       " {'year': 39000},\n",
       " {'seller_type': 39000},\n",
       " {'owner': 39000},\n",
       " {'km_driven': 39000},\n",
       " {'name': 'Hero Honda CBZ extreme'},\n",
       " {'selling_price': 'Hero Honda CBZ extreme'},\n",
       " {'year': 'Hero Honda CBZ extreme'},\n",
       " {'seller_type': 'Hero Honda CBZ extreme'},\n",
       " {'owner': 'Hero Honda CBZ extreme'},\n",
       " {'km_driven': 'Hero Honda CBZ extreme'},\n",
       " {'name': 30000},\n",
       " {'selling_price': 30000},\n",
       " {'year': 30000},\n",
       " {'seller_type': 30000},\n",
       " {'owner': 30000},\n",
       " {'km_driven': 30000},\n",
       " {'name': 2010},\n",
       " {'selling_price': 2010},\n",
       " {'year': 2010},\n",
       " {'seller_type': 2010},\n",
       " {'owner': 2010},\n",
       " {'km_driven': 2010},\n",
       " {'name': 'Individual'},\n",
       " {'selling_price': 'Individual'},\n",
       " {'year': 'Individual'},\n",
       " {'seller_type': 'Individual'},\n",
       " {'owner': 'Individual'},\n",
       " {'km_driven': 'Individual'},\n",
       " {'name': '1st owner'},\n",
       " {'selling_price': '1st owner'},\n",
       " {'year': '1st owner'},\n",
       " {'seller_type': '1st owner'},\n",
       " {'owner': '1st owner'},\n",
       " {'km_driven': '1st owner'},\n",
       " {'name': 32000},\n",
       " {'selling_price': 32000},\n",
       " {'year': 32000},\n",
       " {'seller_type': 32000},\n",
       " {'owner': 32000},\n",
       " {'km_driven': 32000},\n",
       " {'name': 'Bajaj Discover 125'},\n",
       " {'selling_price': 'Bajaj Discover 125'},\n",
       " {'year': 'Bajaj Discover 125'},\n",
       " {'seller_type': 'Bajaj Discover 125'},\n",
       " {'owner': 'Bajaj Discover 125'},\n",
       " {'km_driven': 'Bajaj Discover 125'},\n",
       " {'name': 50000},\n",
       " {'selling_price': 50000},\n",
       " {'year': 50000},\n",
       " {'seller_type': 50000},\n",
       " {'owner': 50000},\n",
       " {'km_driven': 50000},\n",
       " {'name': 2016},\n",
       " {'selling_price': 2016},\n",
       " {'year': 2016},\n",
       " {'seller_type': 2016},\n",
       " {'owner': 2016},\n",
       " {'km_driven': 2016},\n",
       " {'name': 'Individual'},\n",
       " {'selling_price': 'Individual'},\n",
       " {'year': 'Individual'},\n",
       " {'seller_type': 'Individual'},\n",
       " {'owner': 'Individual'},\n",
       " {'km_driven': 'Individual'},\n",
       " {'name': '1st owner'},\n",
       " {'selling_price': '1st owner'},\n",
       " {'year': '1st owner'},\n",
       " {'seller_type': '1st owner'},\n",
       " {'owner': '1st owner'},\n",
       " {'km_driven': '1st owner'},\n",
       " {'name': 42000},\n",
       " {'selling_price': 42000},\n",
       " {'year': 42000},\n",
       " {'seller_type': 42000},\n",
       " {'owner': 42000},\n",
       " {'km_driven': 42000}]"
      ]
     },
     "execution_count": 12,
     "metadata": {},
     "output_type": "execute_result"
    }
   ],
   "source": [
    "p=[]\n",
    "for i in bike_details:\n",
    "    for j in i:\n",
    "        for a in attributes:\n",
    "            b={a:j}\n",
    "            p=p+[b]\n",
    "p"
   ]
  },
  {
   "cell_type": "markdown",
   "id": "76127cd2",
   "metadata": {},
   "source": [
    "## Step 1: Preview the data\n",
    "* Let us first preview the data."
   ]
  },
  {
   "cell_type": "code",
   "execution_count": 3,
   "id": "ca172c27",
   "metadata": {},
   "outputs": [
    {
     "data": {
      "text/plain": [
       "['name', 'selling_price', 'year', 'seller_type', 'owner', 'km_driven']"
      ]
     },
     "execution_count": 3,
     "metadata": {},
     "output_type": "execute_result"
    }
   ],
   "source": [
    "attributes"
   ]
  },
  {
   "cell_type": "code",
   "execution_count": 4,
   "id": "d54ae39f",
   "metadata": {},
   "outputs": [
    {
     "data": {
      "text/plain": [
       "list"
      ]
     },
     "execution_count": 4,
     "metadata": {},
     "output_type": "execute_result"
    }
   ],
   "source": [
    "type(attributes)"
   ]
  },
  {
   "cell_type": "code",
   "execution_count": 5,
   "id": "b7153a65",
   "metadata": {},
   "outputs": [
    {
     "data": {
      "text/plain": [
       "[('Royal Enfield Classic 350', 175000, 2019, 'Individual', '1st owner', 350),\n",
       " ('Honda Dio', 45000, 2017, 'Individual', '1st owner', 5650),\n",
       " ('Royal Enfield Classic Gunmetal Grey',\n",
       "  150000,\n",
       "  2018,\n",
       "  'Individual',\n",
       "  '1st owner',\n",
       "  12000),\n",
       " ('Yamaha Fazer FI V 2.0 [2016-2018]',\n",
       "  65000,\n",
       "  2015,\n",
       "  'Individual',\n",
       "  '1st owner',\n",
       "  23000),\n",
       " ('Yamaha SZ [2013-2014]', 20000, 2011, 'Individual', '2nd owner', 21000),\n",
       " ('Honda CB Twister', 18000, 2010, 'Individual', '1st owner', 60000),\n",
       " ('Honda CB Hornet 160R', 78500, 2018, 'Individual', '1st owner', 17000),\n",
       " ('Royal Enfield Bullet 350 [2007-2011]',\n",
       "  180000,\n",
       "  2008,\n",
       "  'Individual',\n",
       "  '2nd owner',\n",
       "  39000),\n",
       " ('Hero Honda CBZ extreme', 30000, 2010, 'Individual', '1st owner', 32000),\n",
       " ('Bajaj Discover 125', 50000, 2016, 'Individual', '1st owner', 42000)]"
      ]
     },
     "execution_count": 5,
     "metadata": {},
     "output_type": "execute_result"
    }
   ],
   "source": [
    "bike_details"
   ]
  },
  {
   "cell_type": "code",
   "execution_count": 6,
   "id": "73c9dbb0",
   "metadata": {},
   "outputs": [
    {
     "data": {
      "text/plain": [
       "list"
      ]
     },
     "execution_count": 6,
     "metadata": {},
     "output_type": "execute_result"
    }
   ],
   "source": [
    "type(bike_details)"
   ]
  },
  {
   "cell_type": "code",
   "execution_count": 7,
   "id": "c7139943",
   "metadata": {},
   "outputs": [
    {
     "data": {
      "text/plain": [
       "('Royal Enfield Classic 350', 175000, 2019, 'Individual', '1st owner', 350)"
      ]
     },
     "execution_count": 7,
     "metadata": {},
     "output_type": "execute_result"
    }
   ],
   "source": [
    "bike_details[0]"
   ]
  },
  {
   "cell_type": "code",
   "execution_count": 8,
   "id": "9371b9ca",
   "metadata": {},
   "outputs": [
    {
     "data": {
      "text/plain": [
       "tuple"
      ]
     },
     "execution_count": 8,
     "metadata": {},
     "output_type": "execute_result"
    }
   ],
   "source": [
    "type(bike_details[0])"
   ]
  },
  {
   "cell_type": "markdown",
   "id": "fa122006",
   "metadata": {},
   "source": [
    "## Step 2: Provide the solution\n",
    "Now come up with the solution by developing the required logic. Once the function is developed, go to the next step to take care of the validation."
   ]
  },
  {
   "cell_type": "code",
   "execution_count": null,
   "id": "e96c6844",
   "metadata": {},
   "outputs": [],
   "source": [
    "def get_bike_details(attributes, bike_details):\n",
    "    #Your code should go here\n",
    "    bike_details=sorted(map(lambda bike_details: ))\n",
    "    return bike_details"
   ]
  },
  {
   "cell_type": "markdown",
   "id": "55b3aaf1",
   "metadata": {},
   "source": [
    "### Step 3: Validate the function\n",
    "Here is the desired output\n",
    "```python\n",
    "[{'name': 'Royal Enfield Bullet 350 [2007-2011]',\n",
    "  'selling_price': 180000,\n",
    "  'year': 2008,\n",
    "  'seller_type': 'Individual',\n",
    "  'owner': '2nd owner',\n",
    "  'km_driven': 39000},\n",
    " {'name': 'Royal Enfield Classic 350',\n",
    "  'selling_price': 175000,\n",
    "  'year': 2019,\n",
    "  'seller_type': 'Individual',\n",
    "  'owner': '1st owner',\n",
    "  'km_driven': 350},\n",
    " {'name': 'Royal Enfield Classic Gunmetal Grey',\n",
    "  'selling_price': 150000,\n",
    "  'year': 2018,\n",
    "  'seller_type': 'Individual',\n",
    "  'owner': '1st owner',\n",
    "  'km_driven': 12000},\n",
    " {'name': 'Honda CB Hornet 160R',\n",
    "  'selling_price': 78500,\n",
    "  'year': 2018,\n",
    "  'seller_type': 'Individual',\n",
    "  'owner': '1st owner',\n",
    "  'km_driven': 17000},\n",
    " {'name': 'Yamaha Fazer FI V 2.0 [2016-2018]',\n",
    "  'selling_price': 65000,\n",
    "  'year': 2015,\n",
    "  'seller_type': 'Individual',\n",
    "  'owner': '1st owner',\n",
    "  'km_driven': 23000},\n",
    " {'name': 'Bajaj Discover 125',\n",
    "  'selling_price': 50000,\n",
    "  'year': 2016,\n",
    "  'seller_type': 'Individual',\n",
    "  'owner': '1st owner',\n",
    "  'km_driven': 42000},\n",
    " {'name': 'Honda Dio',\n",
    "  'selling_price': 45000,\n",
    "  'year': 2017,\n",
    "  'seller_type': 'Individual',\n",
    "  'owner': '1st owner',\n",
    "  'km_driven': 5650},\n",
    " {'name': 'Hero Honda CBZ extreme',\n",
    "  'selling_price': 30000,\n",
    "  'year': 2010,\n",
    "  'seller_type': 'Individual',\n",
    "  'owner': '1st owner',\n",
    "  'km_driven': 32000},\n",
    " {'name': 'Yamaha SZ [2013-2014]',\n",
    "  'selling_price': 20000,\n",
    "  'year': 2011,\n",
    "  'seller_type': 'Individual',\n",
    "  'owner': '2nd owner',\n",
    "  'km_driven': 21000},\n",
    " {'name': 'Honda CB Twister',\n",
    "  'selling_price': 18000,\n",
    "  'year': 2010,\n",
    "  'seller_type': 'Individual',\n",
    "  'owner': '1st owner',\n",
    "  'km_driven': 60000}]\n",
    "```"
   ]
  },
  {
   "cell_type": "code",
   "execution_count": null,
   "id": "5388f113",
   "metadata": {},
   "outputs": [],
   "source": [
    "bike_details = get_bike_details(attributes, bike_details)"
   ]
  },
  {
   "cell_type": "code",
   "execution_count": null,
   "id": "39dd23d9",
   "metadata": {},
   "outputs": [],
   "source": [
    "bike_details"
   ]
  },
  {
   "cell_type": "code",
   "execution_count": null,
   "id": "3c848ea0",
   "metadata": {},
   "outputs": [],
   "source": [
    "type(bike_details) # list"
   ]
  },
  {
   "cell_type": "code",
   "execution_count": null,
   "id": "2e411c1e",
   "metadata": {},
   "outputs": [],
   "source": [
    "len(bike_details) # 10"
   ]
  },
  {
   "cell_type": "code",
   "execution_count": null,
   "id": "fca35259",
   "metadata": {},
   "outputs": [],
   "source": [
    "bike_details[0] # {'name': 'Royal Enfield Classic 350','selling_price': 175000,'year': 2019,'seller_type': 'Individual','owner': '1st owner','km_driven': 350}"
   ]
  },
  {
   "cell_type": "code",
   "execution_count": null,
   "id": "6693e9c7",
   "metadata": {},
   "outputs": [],
   "source": [
    "type(bike_details[0]) #dict"
   ]
  }
 ],
 "metadata": {
  "kernelspec": {
   "display_name": "Python 3 (ipykernel)",
   "language": "python",
   "name": "python3"
  },
  "language_info": {
   "codemirror_mode": {
    "name": "ipython",
    "version": 3
   },
   "file_extension": ".py",
   "mimetype": "text/x-python",
   "name": "python",
   "nbconvert_exporter": "python",
   "pygments_lexer": "ipython3",
   "version": "3.9.12"
  }
 },
 "nbformat": 4,
 "nbformat_minor": 5
}
