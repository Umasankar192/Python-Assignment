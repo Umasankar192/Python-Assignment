{
 "cells": [
  {
   "cell_type": "markdown",
   "id": "0ba32cdd",
   "metadata": {},
   "source": [
    "## Get Top Student by Total Score\n",
    "\n",
    "Develop a function to get the top student by total score. This is primarily to test the ability to manipulate collections, sort the data and get the ranks.\n",
    "* We will provide list of tuples with student id followed by scores for different subjects.\n",
    "* Develop a function which takes students as input and return the topper with highest total score.\n",
    "\n",
    "**Restrictions: Solve this problem either by using conventional loops or first class functions such as `map`. You are not supposed to use Pandas.**"
   ]
  },
  {
   "cell_type": "code",
   "execution_count": 1,
   "id": "5db4bb73",
   "metadata": {},
   "outputs": [],
   "source": [
    "students = [(1, 72, 72, 74), (2, 69, 90, 88), (3, 90, 95, 93), (4, 47, 47, 44), (5, 76, 78, 75), (6, 71, 83, 78)]"
   ]
  },
  {
   "cell_type": "code",
   "execution_count": null,
   "id": "7ad6e7a5",
   "metadata": {},
   "outputs": [],
   "source": [
    "k =[ for i in s "
   ]
  },
  {
   "cell_type": "code",
   "execution_count": 7,
   "id": "2714fae6",
   "metadata": {},
   "outputs": [
    {
     "data": {
      "text/plain": [
       "3"
      ]
     },
     "execution_count": 7,
     "metadata": {},
     "output_type": "execute_result"
    }
   ],
   "source": [
    "k=[]\n",
    "for i in students:\n",
    "    s=0\n",
    "    for j in i:\n",
    "        s=s+j\n",
    "    k=k+[s]\n",
    "c=k.index(max(k))\n",
    "c=c+1\n",
    "c"
   ]
  },
  {
   "cell_type": "markdown",
   "id": "44371aeb",
   "metadata": {},
   "source": [
    "# Step 1: Preview the data\n",
    "\n",
    "Let us first preview the data."
   ]
  },
  {
   "cell_type": "code",
   "execution_count": 8,
   "id": "91f9e762",
   "metadata": {},
   "outputs": [
    {
     "data": {
      "text/plain": [
       "[(1, 72, 72, 74),\n",
       " (2, 69, 90, 88),\n",
       " (3, 90, 95, 93),\n",
       " (4, 47, 47, 44),\n",
       " (5, 76, 78, 75),\n",
       " (6, 71, 83, 78)]"
      ]
     },
     "execution_count": 8,
     "metadata": {},
     "output_type": "execute_result"
    }
   ],
   "source": [
    "students"
   ]
  },
  {
   "cell_type": "code",
   "execution_count": 9,
   "id": "fb83bd1f",
   "metadata": {},
   "outputs": [
    {
     "data": {
      "text/plain": [
       "list"
      ]
     },
     "execution_count": 9,
     "metadata": {},
     "output_type": "execute_result"
    }
   ],
   "source": [
    "type(students)"
   ]
  },
  {
   "cell_type": "code",
   "execution_count": 10,
   "id": "5dc6b885",
   "metadata": {},
   "outputs": [
    {
     "data": {
      "text/plain": [
       "6"
      ]
     },
     "execution_count": 10,
     "metadata": {},
     "output_type": "execute_result"
    }
   ],
   "source": [
    "len(students)"
   ]
  },
  {
   "cell_type": "markdown",
   "id": "9147518f",
   "metadata": {},
   "source": [
    "### Step 2: Provide the solution\n",
    "\n",
    "Now come up with the solution by developing the required logic. Once the function is developed, go to the next step to take care of the validation."
   ]
  },
  {
   "cell_type": "code",
   "execution_count": 14,
   "id": "f0b5cf56",
   "metadata": {},
   "outputs": [],
   "source": [
    "def get_topper_by_total_score(students):\n",
    "    ## your code should go here\n",
    "    k=[]\n",
    "    for i in students:\n",
    "        s=0\n",
    "        for j in i:\n",
    "            s=s+j\n",
    "        k=k+[s]\n",
    "    topper_by_total_score=k.index(max(k))\n",
    "    topper_by_total_score=topper_by_total_score+1\n",
    "    return topper_by_total_score"
   ]
  },
  {
   "cell_type": "markdown",
   "id": "a6d20d0b",
   "metadata": {},
   "source": [
    "### Step 3: Validate the function\n",
    "\n",
    "Let us validate the function by running below cells.\n",
    "* The student id with highest total score is **3**."
   ]
  },
  {
   "cell_type": "code",
   "execution_count": 15,
   "id": "2f0631c3",
   "metadata": {},
   "outputs": [
    {
     "data": {
      "text/plain": [
       "3"
      ]
     },
     "execution_count": 15,
     "metadata": {},
     "output_type": "execute_result"
    }
   ],
   "source": [
    "topper_by_total_score = get_topper_by_total_score(students)\n",
    "topper_by_total_score"
   ]
  },
  {
   "cell_type": "code",
   "execution_count": 16,
   "id": "275ec79a",
   "metadata": {},
   "outputs": [
    {
     "data": {
      "text/plain": [
       "int"
      ]
     },
     "execution_count": 16,
     "metadata": {},
     "output_type": "execute_result"
    }
   ],
   "source": [
    "type(topper_by_total_score) # int"
   ]
  }
 ],
 "metadata": {
  "kernelspec": {
   "display_name": "Python 3 (ipykernel)",
   "language": "python",
   "name": "python3"
  },
  "language_info": {
   "codemirror_mode": {
    "name": "ipython",
    "version": 3
   },
   "file_extension": ".py",
   "mimetype": "text/x-python",
   "name": "python",
   "nbconvert_exporter": "python",
   "pygments_lexer": "ipython3",
   "version": "3.9.12"
  }
 },
 "nbformat": 4,
 "nbformat_minor": 5
}
